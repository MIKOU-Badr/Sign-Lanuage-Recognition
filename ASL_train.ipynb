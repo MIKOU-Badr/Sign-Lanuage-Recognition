{
 "cells": [
  {
   "cell_type": "code",
   "execution_count": 1,
   "metadata": {},
   "outputs": [
    {
     "name": "stdout",
     "output_type": "stream",
     "text": [
      "{'test': 0, 'train': 1}\n",
      "['test', 'train']\n",
      "[0, 1]\n"
     ]
    }
   ],
   "source": [
    "import cv2,os\n",
    "\n",
    "data_path='DATASET'\n",
    "categories=os.listdir(data_path)\n",
    "labels=[i for i in range(len(categories))]\n",
    "\n",
    "label_dict=dict(zip(categories,labels)) #empty dictionary\n",
    "\n",
    "print(label_dict)\n",
    "print(categories)\n",
    "print(labels)"
   ]
  },
  {
   "cell_type": "code",
   "execution_count": 2,
   "metadata": {},
   "outputs": [
    {
     "name": "stdout",
     "output_type": "stream",
     "text": [
      "['0', 'A', 'B', 'C', 'D', 'E', 'F', 'G', 'H', 'I', 'J', 'K', 'L', 'M', 'N', 'O', 'P', 'Q', 'R', 'S', 'T', 'U', 'V', 'W', 'X', 'Y', 'Z']\n",
      "[0, 1, 2, 3, 4, 5, 6, 7, 8, 9, 10, 11, 12, 13, 14, 15, 16, 17, 18, 19, 20, 21, 22, 23, 24, 25, 26]\n"
     ]
    }
   ],
   "source": [
    "data_path='DATASET/train'\n",
    "classes_path=os.listdir(data_path)\n",
    "classesf=os.listdir(data_path)\n",
    "print(classesf)\n",
    "labels_classes=[i for i in range(len(classesf))]\n",
    "print(labels_classes)"
   ]
  },
  {
   "cell_type": "code",
   "execution_count": 3,
   "metadata": {},
   "outputs": [],
   "source": [
    "data_path='DATASET'"
   ]
  },
  {
   "cell_type": "code",
   "execution_count": 4,
   "metadata": {},
   "outputs": [],
   "source": [
    "label_classes_dict=dict(zip(classesf,labels_classes))"
   ]
  },
  {
   "cell_type": "code",
   "execution_count": 5,
   "metadata": {},
   "outputs": [
    {
     "name": "stdout",
     "output_type": "stream",
     "text": [
      "{'0': 0, 'A': 1, 'B': 2, 'C': 3, 'D': 4, 'E': 5, 'F': 6, 'G': 7, 'H': 8, 'I': 9, 'J': 10, 'K': 11, 'L': 12, 'M': 13, 'N': 14, 'O': 15, 'P': 16, 'Q': 17, 'R': 18, 'S': 19, 'T': 20, 'U': 21, 'V': 22, 'W': 23, 'X': 24, 'Y': 25, 'Z': 26}\n"
     ]
    }
   ],
   "source": [
    "#print(labels_classes)\n",
    "#print(categories)\n",
    "print(label_classes_dict)"
   ]
  },
  {
   "cell_type": "code",
   "execution_count": 6,
   "metadata": {},
   "outputs": [],
   "source": [
    "import numpy as np"
   ]
  },
  {
   "cell_type": "code",
   "execution_count": null,
   "metadata": {},
   "outputs": [],
   "source": []
  },
  {
   "cell_type": "code",
   "execution_count": 7,
   "metadata": {},
   "outputs": [
    {
     "name": "stdout",
     "output_type": "stream",
     "text": [
      "DATASET\\test\n",
      "['0', 'A', 'B', 'C', 'D', 'E', 'F', 'G', 'H', 'I', 'J', 'K', 'L', 'M', 'N', 'O', 'P', 'Q', 'R', 'S', 'T', 'U', 'V', 'W', 'X', 'Y', 'Z']\n",
      "DATASET\\test\\0\n",
      "DATASET\\test\\A\n",
      "DATASET\\test\\B\n",
      "DATASET\\test\\C\n",
      "DATASET\\test\\D\n",
      "DATASET\\test\\E\n",
      "DATASET\\test\\F\n",
      "DATASET\\test\\G\n",
      "DATASET\\test\\H\n",
      "DATASET\\test\\I\n",
      "DATASET\\test\\J\n",
      "DATASET\\test\\K\n",
      "DATASET\\test\\L\n",
      "DATASET\\test\\M\n",
      "DATASET\\test\\N\n",
      "DATASET\\test\\O\n",
      "DATASET\\test\\P\n",
      "DATASET\\test\\Q\n",
      "DATASET\\test\\R\n",
      "DATASET\\test\\S\n",
      "DATASET\\test\\T\n",
      "DATASET\\test\\U\n",
      "DATASET\\test\\V\n",
      "DATASET\\test\\W\n",
      "DATASET\\test\\X\n",
      "DATASET\\test\\Y\n",
      "DATASET\\test\\Z\n",
      "DATASET\\train\n",
      "['0', 'A', 'B', 'C', 'D', 'E', 'F', 'G', 'H', 'I', 'J', 'K', 'L', 'M', 'N', 'O', 'P', 'Q', 'R', 'S', 'T', 'U', 'V', 'W', 'X', 'Y', 'Z']\n",
      "DATASET\\train\\0\n",
      "DATASET\\train\\A\n",
      "DATASET\\train\\B\n",
      "DATASET\\train\\C\n",
      "DATASET\\train\\D\n",
      "DATASET\\train\\E\n",
      "DATASET\\train\\F\n",
      "DATASET\\train\\G\n",
      "DATASET\\train\\H\n",
      "DATASET\\train\\I\n",
      "DATASET\\train\\J\n",
      "DATASET\\train\\K\n",
      "DATASET\\train\\L\n",
      "DATASET\\train\\M\n",
      "DATASET\\train\\N\n",
      "DATASET\\train\\O\n",
      "DATASET\\train\\P\n",
      "DATASET\\train\\Q\n",
      "DATASET\\train\\R\n",
      "DATASET\\train\\S\n",
      "DATASET\\train\\T\n",
      "DATASET\\train\\U\n",
      "DATASET\\train\\V\n",
      "DATASET\\train\\W\n",
      "DATASET\\train\\X\n",
      "DATASET\\train\\Y\n",
      "DATASET\\train\\Z\n"
     ]
    }
   ],
   "source": [
    "img_size=128\n",
    "data=[]\n",
    "target=[]\n",
    "c=0\n",
    "minValue = 70\n",
    "for category in categories:\n",
    "    \n",
    "    cat_path=os.path.join(data_path,category)\n",
    "    print(cat_path)\n",
    "    cat_names=os.listdir(cat_path)\n",
    "    print(cat_names)\n",
    "    for classes in cat_names:\n",
    "        folder_path=os.path.join(data_path,category,classes)\n",
    "        print(folder_path)\n",
    "        img_names=os.listdir(folder_path)\n",
    "        #print(img_names)\n",
    "        for img_name in img_names:\n",
    "            #print(img_name)\n",
    "            img_path=os.path.join(folder_path,img_name)\n",
    "            img=cv2.imread(img_path)\n",
    "            \n",
    "            try:\n",
    "                gray=cv2.cvtColor(img,cv2.COLOR_BGR2GRAY) \n",
    "                blur = cv2.GaussianBlur(gray,(5,5),2)\n",
    "                th3 = cv2.adaptiveThreshold(blur,255,cv2.ADAPTIVE_THRESH_GAUSSIAN_C,cv2.THRESH_BINARY_INV,11,2)\n",
    "                ret, res = cv2.threshold(th3, minValue, 255, cv2.THRESH_BINARY_INV+cv2.THRESH_OTSU)\n",
    "                #res=np.array(res)\n",
    "                #print(type(res))\n",
    "            #Converting the image into gray scale\n",
    "                resized=cv2.resize(res,(img_size,img_size))\n",
    "            #resizing the gray scale into 50x50, since we need a fixed common size for all the images in the dataset\n",
    "                data.append(resized)\n",
    "                #print(data)\n",
    "                target.append(label_classes_dict[classes])\n",
    "            except Exception as e:\n",
    "                print('Exception:',e)\n",
    "            \n",
    "            \n",
    "        \n",
    "        "
   ]
  },
  {
   "cell_type": "code",
   "execution_count": 8,
   "metadata": {},
   "outputs": [],
   "source": [
    "datanp=np.array(data)"
   ]
  },
  {
   "cell_type": "code",
   "execution_count": 9,
   "metadata": {},
   "outputs": [
    {
     "data": {
      "text/plain": [
       "(17113, 128, 128)"
      ]
     },
     "execution_count": 9,
     "metadata": {},
     "output_type": "execute_result"
    }
   ],
   "source": [
    "datanp.shape"
   ]
  },
  {
   "cell_type": "code",
   "execution_count": 10,
   "metadata": {},
   "outputs": [
    {
     "data": {
      "text/plain": [
       "(17113,)"
      ]
     },
     "execution_count": 10,
     "metadata": {},
     "output_type": "execute_result"
    }
   ],
   "source": [
    "targetnp=np.array(target)\n",
    "\n",
    "targetnp.shape"
   ]
  },
  {
   "cell_type": "code",
   "execution_count": 11,
   "metadata": {},
   "outputs": [],
   "source": [
    "import numpy as np\n",
    "\n",
    "data=np.array(data)/255.0\n",
    "data=np.reshape(data,(data.shape[0],img_size,img_size,1))\n",
    "target=np.array(target)\n",
    "\n",
    "from keras.utils import np_utils\n",
    "\n",
    "new_target=np_utils.to_categorical(target)"
   ]
  },
  {
   "cell_type": "code",
   "execution_count": 12,
   "metadata": {},
   "outputs": [
    {
     "data": {
      "text/plain": [
       "(17113, 27)"
      ]
     },
     "execution_count": 12,
     "metadata": {},
     "output_type": "execute_result"
    }
   ],
   "source": [
    "new_target.shape"
   ]
  },
  {
   "cell_type": "code",
   "execution_count": null,
   "metadata": {},
   "outputs": [],
   "source": []
  },
  {
   "cell_type": "code",
   "execution_count": 13,
   "metadata": {},
   "outputs": [],
   "source": [
    "np.save('data_img',data)\n",
    "np.save('target',new_target)"
   ]
  },
  {
   "cell_type": "code",
   "execution_count": 14,
   "metadata": {},
   "outputs": [],
   "source": [
    "data=np.load('data_img.npy')\n",
    "target=np.load('target.npy')"
   ]
  },
  {
   "cell_type": "code",
   "execution_count": 15,
   "metadata": {},
   "outputs": [],
   "source": [
    "from sklearn.model_selection import train_test_split\n",
    "train_data,test_data,train_target,test_target=train_test_split(data,new_target,test_size=0.2)"
   ]
  },
  {
   "cell_type": "code",
   "execution_count": 16,
   "metadata": {},
   "outputs": [
    {
     "name": "stdout",
     "output_type": "stream",
     "text": [
      "Model: \"sequential\"\n",
      "_________________________________________________________________\n",
      "Layer (type)                 Output Shape              Param #   \n",
      "=================================================================\n",
      "conv2d (Conv2D)              (None, 126, 126, 32)      320       \n",
      "_________________________________________________________________\n",
      "max_pooling2d (MaxPooling2D) (None, 63, 63, 32)        0         \n",
      "_________________________________________________________________\n",
      "conv2d_1 (Conv2D)            (None, 61, 61, 32)        9248      \n",
      "_________________________________________________________________\n",
      "max_pooling2d_1 (MaxPooling2 (None, 30, 30, 32)        0         \n",
      "_________________________________________________________________\n",
      "flatten (Flatten)            (None, 28800)             0         \n",
      "_________________________________________________________________\n",
      "dense (Dense)                (None, 128)               3686528   \n",
      "_________________________________________________________________\n",
      "dropout (Dropout)            (None, 128)               0         \n",
      "_________________________________________________________________\n",
      "dense_1 (Dense)              (None, 96)                12384     \n",
      "_________________________________________________________________\n",
      "dropout_1 (Dropout)          (None, 96)                0         \n",
      "_________________________________________________________________\n",
      "dense_2 (Dense)              (None, 64)                6208      \n",
      "_________________________________________________________________\n",
      "dense_3 (Dense)              (None, 27)                1755      \n",
      "=================================================================\n",
      "Total params: 3,716,443\n",
      "Trainable params: 3,716,443\n",
      "Non-trainable params: 0\n",
      "_________________________________________________________________\n"
     ]
    }
   ],
   "source": [
    "from keras.models import Sequential\n",
    "from keras.layers import Convolution2D\n",
    "from keras.layers import MaxPooling2D\n",
    "from keras.layers import Flatten\n",
    "from keras.layers import Dense , Dropout\n",
    "import os\n",
    "os.environ[\"CUDA_VISIBLE_DEVICES\"] = \"1\"\n",
    "sz = 128\n",
    "# Step 1 - Building the CNN\n",
    "\n",
    "# Initializing the CNN\n",
    "classifier = Sequential()\n",
    "\n",
    "# First convolution layer and pooling\n",
    "classifier.add(Convolution2D(32, (3, 3), input_shape=(sz, sz, 1), activation='relu'))\n",
    "classifier.add(MaxPooling2D(pool_size=(2, 2)))\n",
    "# Second convolution layer and pooling\n",
    "classifier.add(Convolution2D(32, (3, 3), activation='relu'))\n",
    "# input_shape is going to be the pooled feature maps from the previous convolution layer\n",
    "classifier.add(MaxPooling2D(pool_size=(2, 2)))\n",
    "#classifier.add(Convolution2D(32, (3, 3), activation='relu'))\n",
    "# input_shape is going to be the pooled feature maps from the previous convolution layer\n",
    "#classifier.add(MaxPooling2D(pool_size=(2, 2)))\n",
    "\n",
    "# Flattening the layers\n",
    "classifier.add(Flatten())\n",
    "\n",
    "# Adding a fully connected layer\n",
    "classifier.add(Dense(units=128, activation='relu'))\n",
    "classifier.add(Dropout(0.40))\n",
    "classifier.add(Dense(units=96, activation='relu'))\n",
    "classifier.add(Dropout(0.40))\n",
    "classifier.add(Dense(units=64, activation='relu'))\n",
    "classifier.add(Dense(units=27, activation='softmax')) # softmax for more than 2\n",
    "\n",
    "# Compiling the CNN\n",
    "classifier.compile(optimizer='adam', loss='categorical_crossentropy', metrics=['accuracy']) # categorical_crossentropy for more than 2\n",
    "\n",
    "\n",
    "# Step 2 - Preparing the train/test data and training the model\n",
    "classifier.summary()"
   ]
  },
  {
   "cell_type": "code",
   "execution_count": 17,
   "metadata": {},
   "outputs": [],
   "source": [
    "from keras.callbacks import ModelCheckpoint"
   ]
  },
  {
   "cell_type": "code",
   "execution_count": 18,
   "metadata": {},
   "outputs": [
    {
     "name": "stdout",
     "output_type": "stream",
     "text": [
      "Epoch 1/20\n",
      "300/300 [==============================] - 161s 411ms/step - loss: 2.8594 - accuracy: 0.1677 - val_loss: 0.4604 - val_accuracy: 0.8972\n",
      "INFO:tensorflow:Assets written to: model-001.model\\assets\n",
      "Epoch 2/20\n",
      "300/300 [==============================] - 129s 430ms/step - loss: 0.8529 - accuracy: 0.7132 - val_loss: 0.1091 - val_accuracy: 0.9764\n",
      "INFO:tensorflow:Assets written to: model-002.model\\assets\n",
      "Epoch 3/20\n",
      "300/300 [==============================] - 138s 460ms/step - loss: 0.5034 - accuracy: 0.8326 - val_loss: 0.0533 - val_accuracy: 0.9854\n",
      "INFO:tensorflow:Assets written to: model-003.model\\assets\n",
      "Epoch 4/20\n",
      "300/300 [==============================] - 128s 427ms/step - loss: 0.3163 - accuracy: 0.8895 - val_loss: 0.0254 - val_accuracy: 0.9939\n",
      "INFO:tensorflow:Assets written to: model-004.model\\assets\n",
      "Epoch 5/20\n",
      "300/300 [==============================] - 122s 407ms/step - loss: 0.2722 - accuracy: 0.9016 - val_loss: 0.0167 - val_accuracy: 0.9973\n",
      "INFO:tensorflow:Assets written to: model-005.model\\assets\n",
      "Epoch 6/20\n",
      "300/300 [==============================] - 128s 429ms/step - loss: 0.2288 - accuracy: 0.9221 - val_loss: 0.0098 - val_accuracy: 0.9983\n",
      "INFO:tensorflow:Assets written to: model-006.model\\assets\n",
      "Epoch 7/20\n",
      "300/300 [==============================] - 124s 414ms/step - loss: 0.1903 - accuracy: 0.9351 - val_loss: 0.0121 - val_accuracy: 0.9978\n",
      "Epoch 8/20\n",
      "300/300 [==============================] - 122s 405ms/step - loss: 0.1831 - accuracy: 0.9407 - val_loss: 0.0055 - val_accuracy: 0.9990\n",
      "INFO:tensorflow:Assets written to: model-008.model\\assets\n",
      "Epoch 9/20\n",
      "300/300 [==============================] - 127s 423ms/step - loss: 0.1664 - accuracy: 0.9445 - val_loss: 0.0066 - val_accuracy: 0.9981\n",
      "Epoch 10/20\n",
      "300/300 [==============================] - 124s 412ms/step - loss: 0.1587 - accuracy: 0.9498 - val_loss: 0.0053 - val_accuracy: 0.9985\n",
      "INFO:tensorflow:Assets written to: model-010.model\\assets\n",
      "Epoch 11/20\n",
      "300/300 [==============================] - 126s 421ms/step - loss: 0.1431 - accuracy: 0.9549 - val_loss: 0.0053 - val_accuracy: 0.9985\n",
      "INFO:tensorflow:Assets written to: model-011.model\\assets\n",
      "Epoch 12/20\n",
      "300/300 [==============================] - 121s 403ms/step - loss: 0.1404 - accuracy: 0.9537 - val_loss: 0.0045 - val_accuracy: 0.9981\n",
      "INFO:tensorflow:Assets written to: model-012.model\\assets\n",
      "Epoch 13/20\n",
      "300/300 [==============================] - 126s 421ms/step - loss: 0.1308 - accuracy: 0.9571 - val_loss: 0.0067 - val_accuracy: 0.9983\n",
      "Epoch 14/20\n",
      "300/300 [==============================] - 121s 402ms/step - loss: 0.1282 - accuracy: 0.9592 - val_loss: 0.0046 - val_accuracy: 0.9988\n",
      "Epoch 15/20\n",
      "300/300 [==============================] - 126s 421ms/step - loss: 0.1147 - accuracy: 0.9616 - val_loss: 0.0044 - val_accuracy: 0.9981\n",
      "INFO:tensorflow:Assets written to: model-015.model\\assets\n",
      "Epoch 16/20\n",
      "300/300 [==============================] - 124s 413ms/step - loss: 0.0996 - accuracy: 0.9655 - val_loss: 0.0038 - val_accuracy: 0.9990\n",
      "INFO:tensorflow:Assets written to: model-016.model\\assets\n",
      "Epoch 17/20\n",
      "300/300 [==============================] - 127s 422ms/step - loss: 0.0984 - accuracy: 0.9682 - val_loss: 0.0037 - val_accuracy: 0.9993\n",
      "INFO:tensorflow:Assets written to: model-017.model\\assets\n",
      "Epoch 18/20\n",
      "300/300 [==============================] - 127s 422ms/step - loss: 0.1014 - accuracy: 0.9674 - val_loss: 0.0020 - val_accuracy: 0.9995\n",
      "INFO:tensorflow:Assets written to: model-018.model\\assets\n",
      "Epoch 19/20\n",
      "300/300 [==============================] - 119s 398ms/step - loss: 0.1050 - accuracy: 0.9645 - val_loss: 0.0038 - val_accuracy: 0.9985\n",
      "Epoch 20/20\n",
      "300/300 [==============================] - 123s 410ms/step - loss: 0.0793 - accuracy: 0.9724 - val_loss: 0.0052 - val_accuracy: 0.9981\n"
     ]
    }
   ],
   "source": [
    "checkpoint = ModelCheckpoint('model-{epoch:03d}.model',monitor='val_loss',verbose=0,save_best_only=True,mode='auto')\n",
    "history=classifier.fit(train_data,train_target,shuffle=True,epochs=20,callbacks=[checkpoint],validation_split=0.3)"
   ]
  },
  {
   "cell_type": "code",
   "execution_count": 19,
   "metadata": {},
   "outputs": [
    {
     "name": "stdout",
     "output_type": "stream",
     "text": [
      "107/107 [==============================] - 11s 102ms/step - loss: 8.3469e-04 - accuracy: 1.0000\n",
      "[0.0008346921531483531, 1.0]\n"
     ]
    }
   ],
   "source": [
    "print(classifier.evaluate(test_data,test_target))"
   ]
  },
  {
   "cell_type": "code",
   "execution_count": 21,
   "metadata": {},
   "outputs": [
    {
     "data": {
      "image/png": "[encoded data removed]",
      "text/plain": [
       "<Figure size 432x288 with 1 Axes>"
      ]
     },
     "metadata": {},
     "output_type": "display_data"
    }
   ],
   "source": [
    "import matplotlib.pyplot as plt\n",
    "N = 20\n",
    "H=history\n",
    "plt.style.use(\"ggplot\")\n",
    "plt.figure()\n",
    "plt.plot(np.arange(0, N), H.history[\"loss\"], label=\"train_loss\")\n",
    "plt.plot(np.arange(0, N), H.history[\"val_loss\"], label=\"val_loss\")\n",
    "plt.plot(np.arange(0, N), H.history[\"accuracy\"], label=\"train_acc\")\n",
    "plt.plot(np.arange(0, N), H.history[\"val_accuracy\"], label=\"val_acc\")\n",
    "plt.title(\"Training Loss and Accuracy\")\n",
    "plt.xlabel(\"Epoch #\")\n",
    "plt.ylabel(\"Loss/Accuracy\")\n",
    "plt.legend(loc=\"lower left\")\n",
    "plt.savefig('evaluation.png')"
   ]
  },
  {
   "cell_type": "code",
   "execution_count": 22,
   "metadata": {},
   "outputs": [
    {
     "name": "stdout",
     "output_type": "stream",
     "text": [
      "[INFO] saving mask detector model...\n",
      "Done !\n"
     ]
    }
   ],
   "source": [
    "# serialize the model to disk\n",
    "print(\"[INFO] saving mask detector model...\")\n",
    "classifier.save('asl_classifier.h5')\n",
    "print(\"Done !\")"
   ]
  },
  {
   "cell_type": "code",
   "execution_count": 23,
   "metadata": {},
   "outputs": [
    {
     "data": {
      "image/png": "[encoded data removed]",
      "text/plain": [
       "<Figure size 432x288 with 1 Axes>"
      ]
     },
     "metadata": {},
     "output_type": "display_data"
    }
   ],
   "source": [
    "import matplotlib.pyplot as plt\n",
    "plt.plot(history.history['loss'])\n",
    "plt.plot(history.history['val_loss'])\n",
    "plt.xlabel('epochs')\n",
    "plt.ylabel('Loss')\n",
    "plt.legend(['train_loss','val_loss'], loc=0)\n",
    "plt.show()"
   ]
  },
  {
   "cell_type": "code",
   "execution_count": 24,
   "metadata": {},
   "outputs": [
    {
     "data": {
      "image/png": "[encoded data removed]",
      "text/plain": [
       "<Figure size 432x288 with 1 Axes>"
      ]
     },
     "metadata": {},
     "output_type": "display_data"
    }
   ],
   "source": [
    "import matplotlib.pyplot as plt\n",
    "plt.plot(history.history['accuracy'])\n",
    "plt.plot(history.history['val_accuracy'])\n",
    "plt.xlabel('epochs')\n",
    "plt.ylabel('Accuracy')\n",
    "plt.legend(['train_accuracy','val_accuracy'], loc=0)\n",
    "plt.show()"
   ]
  },
  {
   "cell_type": "code",
   "execution_count": null,
   "metadata": {},
   "outputs": [],
   "source": []
  }
 ],
 "metadata": {
  "kernelspec": {
   "display_name": "Python 3",
   "language": "python",
   "name": "python3"
  },
  "language_info": {
   "codemirror_mode": {
    "name": "ipython",
    "version": 3
   },
   "file_extension": ".py",
   "mimetype": "text/x-python",
   "name": "python",
   "nbconvert_exporter": "python",
   "pygments_lexer": "ipython3",
   "version": "3.9.5"
  }
 },
 "nbformat": 4,
 "nbformat_minor": 2
}
